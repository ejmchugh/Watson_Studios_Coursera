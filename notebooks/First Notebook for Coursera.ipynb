{
    "cells": [
        {
            "cell_type": "markdown",
            "metadata": {
                "collapsed": true
            },
            "source": "# My Jupyter Notebook on IBM Watson Studio"
        },
        {
            "cell_type": "markdown",
            "metadata": {},
            "source": "**Elizabeth McHugh**  \n  Student"
        },
        {
            "cell_type": "markdown",
            "metadata": {},
            "source": "I am interested in learning data science because I am exploring what I can do with a degree in mathematics apart from teaching or performing academic research."
        },
        {
            "cell_type": "markdown",
            "metadata": {},
            "source": "### *This code will compute the square root of 3 to four decimal places.*"
        },
        {
            "cell_type": "code",
            "execution_count": 1,
            "metadata": {},
            "outputs": [
                {
                    "name": "stdout",
                    "output_type": "stream",
                    "text": "The square root of 3 is approximately:\n1.7321\n"
                }
            ],
            "source": "import math\nprint(\"The square root of 3 is approximately:\")\nprint(round(math.sqrt(3), 4))"
        },
        {
            "cell_type": "markdown",
            "metadata": {},
            "source": "Formatting conventions used: Bulleted list, horizontal rule, strikethrough, and numbered list.\n\n- This is\n- A \n    + Bulleted \n- List\n\n---\n\n~~Vertical~~ Horizontal Rule\n\n---\n\n1. This is\n2. A\n    + Numbered\n3. List\n\n"
        }
    ],
    "metadata": {
        "kernelspec": {
            "display_name": "Python 3.7",
            "language": "python",
            "name": "python3"
        },
        "language_info": {
            "codemirror_mode": {
                "name": "ipython",
                "version": 3
            },
            "file_extension": ".py",
            "mimetype": "text/x-python",
            "name": "python",
            "nbconvert_exporter": "python",
            "pygments_lexer": "ipython3",
            "version": "3.7.9"
        }
    },
    "nbformat": 4,
    "nbformat_minor": 1
}
